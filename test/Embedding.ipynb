{
 "cells": [
  {
   "cell_type": "markdown",
   "metadata": {},
   "source": [
    "# Test 1\n",
    "\n",
    "In this script, we will calculate similarity between 'question' and 'context' embedding values came from Vertex AI Gecko Embedding API. \n",
    "\n",
    "At fist, I will use 'textembedding-gecko@001'."
   ]
  },
  {
   "cell_type": "code",
   "execution_count": null,
   "metadata": {},
   "outputs": [],
   "source": [
    "# ! pip install google-cloud-aiplatform\n",
    "# ! pip install torch\n",
    "# ! pip install transformers"
   ]
  },
  {
   "cell_type": "code",
   "execution_count": null,
   "metadata": {},
   "outputs": [],
   "source": [
    "import json\n",
    "import datasets\n",
    "from datasets import list_datasets\n",
    "\n",
    "all_datasets = list_datasets()\n"
   ]
  },
  {
   "cell_type": "code",
   "execution_count": null,
   "metadata": {},
   "outputs": [],
   "source": [
    "list = [x for x in all_datasets if 'quad' in x]\n",
    "print(list)\n",
    "\n",
    "# squad_kor_v2"
   ]
  },
  {
   "cell_type": "code",
   "execution_count": null,
   "metadata": {},
   "outputs": [],
   "source": [
    "from datasets import load_dataset\n",
    "\n",
    "squad_kor_v2 = load_dataset('squad_kor_v2')"
   ]
  },
  {
   "cell_type": "code",
   "execution_count": null,
   "metadata": {},
   "outputs": [],
   "source": [
    "\n",
    "validation_data = squad_kor_v2['validation']\n",
    "df_valid = validation_data.to_pandas()"
   ]
  },
  {
   "cell_type": "code",
   "execution_count": null,
   "metadata": {},
   "outputs": [],
   "source": [
    "from google.auth import default\n",
    "\n",
    "# Without Scopes, you will see the error. \n",
    "credentials, _ = default(scopes=[\"https://www.googleapis.com/auth/cloud-platform\"])"
   ]
  },
  {
   "cell_type": "code",
   "execution_count": null,
   "metadata": {},
   "outputs": [],
   "source": [
    "import os\n",
    "\n",
    "PROJECT_NUMBER = os.getenv(\"PROJECT_NUMBER\")\n",
    "VERTEX_AI_LOCATION = \"us-central1\"\n"
   ]
  },
  {
   "cell_type": "code",
   "execution_count": null,
   "metadata": {},
   "outputs": [],
   "source": [
    "import vertexai\n",
    "\n",
    "vertexai.init(project=PROJECT_NUMBER, location=VERTEX_AI_LOCATION, credentials=credentials)\n",
    "parameters = {\n",
    "    \"temperature\" : 0.2,\n",
    "    \"max_output_tokens\" : 1024, \n",
    "    \"top_p\": 0.8, \n",
    "    \"top_k\" : 10\n",
    "}"
   ]
  },
  {
   "cell_type": "code",
   "execution_count": null,
   "metadata": {},
   "outputs": [],
   "source": [
    "from vertexai.preview.language_models import TextEmbeddingModel\n",
    "\n",
    "model = TextEmbeddingModel.from_pretrained(\"textembedding-gecko@001\")"
   ]
  },
  {
   "cell_type": "code",
   "execution_count": null,
   "metadata": {},
   "outputs": [],
   "source": [
    "df_embedding = df_valid[:200]"
   ]
  },
  {
   "cell_type": "code",
   "execution_count": null,
   "metadata": {},
   "outputs": [],
   "source": [
    "df_embedding['question']"
   ]
  },
  {
   "cell_type": "code",
   "execution_count": null,
   "metadata": {},
   "outputs": [],
   "source": [
    "QUATA_LIMIT = 5\n",
    "\n",
    "context_result_list = []\n",
    "answer_result_list = []\n",
    "\n",
    "for group_cnt in range(0, len(df_embedding) // QUATA_LIMIT):\n",
    "  df_target = df_embedding[group_cnt * QUATA_LIMIT:(group_cnt + 1) * QUATA_LIMIT]\n",
    "  context_result_list.extend(model.get_embeddings(df_target['context']))\n",
    "  answer_result_list.extend(model.get_embeddings(df_target['question']))"
   ]
  },
  {
   "cell_type": "code",
   "execution_count": null,
   "metadata": {},
   "outputs": [],
   "source": [
    "len(context_result_list)"
   ]
  },
  {
   "cell_type": "code",
   "execution_count": null,
   "metadata": {},
   "outputs": [],
   "source": [
    "import pandas as pd\n",
    "\n",
    "df_context_result = pd.DataFrame(context_result_list)\n",
    "df_question_result = pd.DataFrame(answer_result_list)\n",
    "\n"
   ]
  },
  {
   "cell_type": "code",
   "execution_count": null,
   "metadata": {},
   "outputs": [],
   "source": [
    "df_question_result"
   ]
  },
  {
   "cell_type": "code",
   "execution_count": null,
   "metadata": {},
   "outputs": [],
   "source": [
    "import numpy as np\n",
    "\n",
    "num_rows = len(df_context_result)\n",
    "inner_product_matrix = np.zeros((num_rows, num_rows))\n",
    "\n",
    "for i in range(num_rows):\n",
    "  for j in range(num_rows):\n",
    "    inner_product_matrix[i,j] = np.inner(df_context_result['values'][i], df_question_result['values'][j])\n"
   ]
  },
  {
   "cell_type": "code",
   "execution_count": null,
   "metadata": {},
   "outputs": [],
   "source": [
    "df_context_result['values']"
   ]
  },
  {
   "cell_type": "code",
   "execution_count": null,
   "metadata": {},
   "outputs": [],
   "source": [
    "df_question_result['values']"
   ]
  },
  {
   "cell_type": "code",
   "execution_count": null,
   "metadata": {},
   "outputs": [],
   "source": [
    "pd.DataFrame(inner_product_matrix)"
   ]
  },
  {
   "cell_type": "code",
   "execution_count": null,
   "metadata": {},
   "outputs": [],
   "source": [
    "# print(df_embedding['context'][0]) # 2016년 하계 올림픽 배구 남자 선수 명단 - 위키백과, 우리 모두의 백과사전\n",
    "# print(df_embedding['context'][195]) # 니콜라스 베르그루엔 - 위키백과, 우리 모두의 백과사전\n",
    "# print(df_embedding['question'][1]) # 2016년 하계 올림픽 캐나다 남자 배구 대표팀 선수들 중, 타일러 샌더스는 2015-16년에 어느 팀 소속이었나?"
   ]
  },
  {
   "cell_type": "code",
   "execution_count": null,
   "metadata": {},
   "outputs": [],
   "source": [
    "# In this dataset, there are duplicated context records which have different questions. \n",
    "\n",
    "list_same_context_question_product = []\n",
    "list_different_context_question_product = []\n",
    "\n",
    "for question_index in range(len(inner_product_matrix)):\n",
    "  context_value = inner_product_matrix[question_index, question_index]\n",
    "  list_same_context_question_product.append(context_value)\n",
    "  for context_index in range(len(inner_product_matrix)):\n",
    "    similarity = inner_product_matrix[context_index, question_index]\n",
    "    if context_value == similarity:\n",
    "      continue\n",
    "    list_different_context_question_product.append(similarity)\n"
   ]
  },
  {
   "cell_type": "code",
   "execution_count": null,
   "metadata": {},
   "outputs": [],
   "source": [
    "## Right Context / Question pair similarity\n",
    "pd.DataFrame(list_same_context_question_product).describe()"
   ]
  },
  {
   "cell_type": "code",
   "execution_count": null,
   "metadata": {},
   "outputs": [],
   "source": [
    "pd.DataFrame(list_different_context_question_product).describe()"
   ]
  },
  {
   "cell_type": "markdown",
   "metadata": {},
   "source": [
    "## Test 2.\n",
    "\n",
    "New version Gecko Embedding API will be tested."
   ]
  },
  {
   "cell_type": "code",
   "execution_count": null,
   "metadata": {},
   "outputs": [],
   "source": [
    "\n",
    "def make_embeddings(model, df_embedding):\n",
    "  context_result_list = []\n",
    "  question_result_list = []\n",
    "  for group_cnt in range(0, len(df_embedding) // QUATA_LIMIT):\n",
    "    df_target = df_embedding[group_cnt * QUATA_LIMIT:(group_cnt + 1) * QUATA_LIMIT]\n",
    "    context_result_list.extend(model.get_embeddings(df_target['context']))\n",
    "    question_result_list.extend(model.get_embeddings(df_target['question']))\n",
    "  return context_result_list, question_result_list\n",
    "    "
   ]
  },
  {
   "cell_type": "code",
   "execution_count": null,
   "metadata": {},
   "outputs": [],
   "source": [
    "new_model = TextEmbeddingModel.from_pretrained(\"textembedding-gecko@latest\")\n",
    "\n",
    "context_result_list_latest, question_result_list_latest = make_embeddings(new_model, df_embedding)\n",
    "\n",
    "# 300 sec - 200 call 1.5 sec latency (per 5 batch)"
   ]
  },
  {
   "cell_type": "code",
   "execution_count": null,
   "metadata": {},
   "outputs": [],
   "source": [
    "df_context_latest = pd.DataFrame(context_result_list_latest)\n",
    "df_question_latest = pd.DataFrame(question_result_list_latest)"
   ]
  },
  {
   "cell_type": "code",
   "execution_count": null,
   "metadata": {},
   "outputs": [],
   "source": [
    "def make_inner_product(df_context_result,df_question_result):\n",
    "  num_rows = len(df_context_result)\n",
    "  inner_product_matrix = np.zeros((num_rows, num_rows))\n",
    "  for i in range(num_rows):\n",
    "    for j in range(num_rows):\n",
    "      inner_product_matrix[i,j] = np.inner(df_context_result['values'][i], df_question_result['values'][j])\n",
    "  return inner_product_matrix\n",
    "\n",
    "def make_diagonal_elements(inner_product_matrix):\n",
    "  list_same_context_question_product = []\n",
    "  list_different_context_question_product = []\n",
    "  for question_index in range(len(inner_product_matrix)):\n",
    "    context_value = inner_product_matrix[question_index, question_index]\n",
    "    list_same_context_question_product.append(context_value)\n",
    "    for context_index in range(len(inner_product_matrix)):\n",
    "      similarity = inner_product_matrix[context_index, question_index]\n",
    "      if context_value == similarity:\n",
    "        continue\n",
    "      list_different_context_question_product.append(similarity)\n",
    "  return list_same_context_question_product, list_different_context_question_product"
   ]
  },
  {
   "cell_type": "code",
   "execution_count": null,
   "metadata": {},
   "outputs": [],
   "source": [
    "inner_product_matrix_latest = make_inner_product(df_context_latest, df_question_latest)\n",
    "list_same_cq_sim_latest, list_dif_cq_sim_latest = make_diagonal_elements(inner_product_matrix_latest)"
   ]
  },
  {
   "cell_type": "code",
   "execution_count": null,
   "metadata": {},
   "outputs": [],
   "source": [
    "pd.DataFrame(list_same_cq_sim_latest).describe()"
   ]
  },
  {
   "cell_type": "code",
   "execution_count": null,
   "metadata": {},
   "outputs": [],
   "source": [
    "pd.DataFrame(list_dif_cq_sim_latest).describe()"
   ]
  },
  {
   "cell_type": "code",
   "execution_count": null,
   "metadata": {},
   "outputs": [],
   "source": [
    "new_multilang_model = TextEmbeddingModel.from_pretrained(\"textembedding-gecko-multilingual@latest\")\n",
    "\n",
    "context_result_list_multilang, question_result_list_multilang = make_embeddings(new_multilang_model, df_embedding)\n"
   ]
  },
  {
   "cell_type": "code",
   "execution_count": null,
   "metadata": {},
   "outputs": [],
   "source": [
    "df_context_multilang = pd.DataFrame(context_result_list_multilang)\n",
    "df_question_multilang = pd.DataFrame(question_result_list_multilang)"
   ]
  },
  {
   "cell_type": "code",
   "execution_count": null,
   "metadata": {},
   "outputs": [],
   "source": [
    "inner_product_matrix_multilang = make_inner_product(df_context_multilang, df_question_multilang)\n",
    "list_same_cq_sim_multilang, list_dif_cq_sim_multilang = make_diagonal_elements(inner_product_matrix_multilang)"
   ]
  },
  {
   "cell_type": "code",
   "execution_count": null,
   "metadata": {},
   "outputs": [],
   "source": [
    "pd.DataFrame(list_same_cq_sim_multilang).describe()"
   ]
  },
  {
   "cell_type": "code",
   "execution_count": null,
   "metadata": {},
   "outputs": [],
   "source": [
    "pd.DataFrame(list_dif_cq_sim_multilang).describe()"
   ]
  }
 ],
 "metadata": {
  "kernelspec": {
   "display_name": "rag_proto",
   "language": "python",
   "name": "python3"
  },
  "language_info": {
   "codemirror_mode": {
    "name": "ipython",
    "version": 3
   },
   "file_extension": ".py",
   "mimetype": "text/x-python",
   "name": "python",
   "nbconvert_exporter": "python",
   "pygments_lexer": "ipython3",
   "version": "3.9.7"
  },
  "orig_nbformat": 4
 },
 "nbformat": 4,
 "nbformat_minor": 2
}
