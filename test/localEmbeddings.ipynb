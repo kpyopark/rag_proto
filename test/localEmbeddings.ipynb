{
 "cells": [
  {
   "cell_type": "code",
   "execution_count": null,
   "metadata": {},
   "outputs": [],
   "source": [
    "import json\n",
    "import datasets\n",
    "from datasets import list_datasets\n",
    "\n"
   ]
  },
  {
   "cell_type": "code",
   "execution_count": null,
   "metadata": {},
   "outputs": [],
   "source": [
    "import psutil\n",
    "\n",
    "def print_memory():\n",
    "  # Get memory usage information\n",
    "  memory = psutil.virtual_memory()\n",
    "\n",
    "  # Print memory usage statistics\n",
    "  print(f\"Total Memory: {memory.total / (1024**3):.2f} GB\")\n",
    "  print(f\"Available Memory: {memory.available / (1024**3):.2f} GB\")\n",
    "  print(f\"Used Memory: {memory.used / (1024**3):.2f} GB\")\n",
    "  print(f\"Memory Usage Percentage: {memory.percent:.2f}%\")"
   ]
  },
  {
   "cell_type": "code",
   "execution_count": null,
   "metadata": {},
   "outputs": [],
   "source": [
    "print_memory()\n",
    "\n",
    "all_datasets = list_datasets()\n",
    "from datasets import load_dataset\n",
    "\n",
    "squad_kor_v2 = load_dataset('squad_kor_v2')\n",
    "\n",
    "validation_data = squad_kor_v2['validation']\n",
    "df_valid = validation_data.to_pandas()\n",
    "\n",
    "print_memory()"
   ]
  },
  {
   "cell_type": "code",
   "execution_count": null,
   "metadata": {},
   "outputs": [],
   "source": [
    "df_embedding = df_valid[:100]\n",
    "del df_valid\n",
    "del squad_kor_v2\n",
    "del validation_data\n"
   ]
  },
  {
   "cell_type": "code",
   "execution_count": null,
   "metadata": {},
   "outputs": [],
   "source": [
    "df_embedding"
   ]
  },
  {
   "cell_type": "code",
   "execution_count": null,
   "metadata": {},
   "outputs": [],
   "source": [
    "import torch\n",
    "from transformers import AutoModel, AutoTokenizer\n",
    "\n",
    "torch.device('cuda:0')"
   ]
  },
  {
   "cell_type": "code",
   "execution_count": null,
   "metadata": {},
   "outputs": [],
   "source": [
    "import gc\n",
    "\n",
    "\n",
    "def tokenize_and_embedding(sentences):\n",
    "  model = AutoModel.from_pretrained('BM-K/KoSimCSE-roberta-multitask')  # or 'BM-K/KoSimCSE-bert-multitask'\n",
    "  tokenizer = AutoTokenizer.from_pretrained('BM-K/KoSimCSE-roberta-multitask')  # or 'BM-K/KoSimCSE-bert-multitask'\n",
    "  print('tokenzing...')\n",
    "  inputs = tokenizer(sentences, padding=True, truncation=True, return_tensors=\"pt\")\n",
    "  print('embedding...')\n",
    "  embeddings, _ = model(**inputs, return_dict=False)\n",
    "  result = []\n",
    "  for emb_cnt in range(len(embeddings)):\n",
    "    result.append(embeddings[emb_cnt][0].detach().numpy())\n",
    "  del model\n",
    "  del tokenizer\n",
    "  del inputs\n",
    "  del embeddings\n",
    "  gc.collect()\n",
    "  return result\n"
   ]
  },
  {
   "cell_type": "code",
   "execution_count": null,
   "metadata": {},
   "outputs": [],
   "source": [
    "import numpy as np\n",
    "\n",
    "def cal_score(a, b):\n",
    "  dot_product = np.dot(a, b)\n",
    "  norm1 = np.linalg.norm(a)\n",
    "  norm2 = np.linalg.norm(b)\n",
    "\n",
    "  return dot_product / (norm1 * norm2)\n",
    "\n"
   ]
  },
  {
   "cell_type": "code",
   "execution_count": null,
   "metadata": {},
   "outputs": [],
   "source": [
    "LOCAL_QUATA_LIMIT = 20\n",
    "\n",
    "def make_embeddings_with_local(df_embedding):\n",
    "  context_result_list = []\n",
    "  question_result_list = []\n",
    "  for group_cnt in range(0, len(df_embedding) // LOCAL_QUATA_LIMIT):\n",
    "    print(group_cnt)\n",
    "    print_memory()\n",
    "    df_target = df_embedding[group_cnt * LOCAL_QUATA_LIMIT:(group_cnt + 1) * LOCAL_QUATA_LIMIT]\n",
    "    context_result_list.extend(tokenize_and_embedding(df_target['context'].to_list()))\n",
    "    question_result_list.extend(tokenize_and_embedding(df_target['question'].to_list()))\n",
    "  return context_result_list, question_result_list"
   ]
  },
  {
   "cell_type": "code",
   "execution_count": null,
   "metadata": {},
   "outputs": [],
   "source": [
    "context_result_list_bmk, question_result_list_bmk = make_embeddings_with_local(df_embedding)"
   ]
  },
  {
   "cell_type": "code",
   "execution_count": null,
   "metadata": {},
   "outputs": [],
   "source": [
    "import pandas as pd\n",
    "\n",
    "#df_context_latest = pd.DataFrame(context_result_list_bmk)\n",
    "#df_question_latest = pd.DataFrame(question_result_list_bmk)"
   ]
  },
  {
   "cell_type": "code",
   "execution_count": null,
   "metadata": {},
   "outputs": [],
   "source": [
    "def make_inner_product(df_context_result,df_question_result):\n",
    "  num_rows = len(df_context_result)\n",
    "  inner_product_matrix = np.zeros((num_rows, num_rows))\n",
    "  for i in range(num_rows):\n",
    "    for j in range(num_rows):\n",
    "      inner_product_matrix[i,j] = cal_score(df_context_result[i],df_question_result[j])\n",
    "  return inner_product_matrix\n",
    "\n",
    "def make_diagonal_elements(inner_product_matrix):\n",
    "  list_same_context_question_product = []\n",
    "  list_different_context_question_product = []\n",
    "  for question_index in range(len(inner_product_matrix)):\n",
    "    context_value = inner_product_matrix[question_index, question_index]\n",
    "    list_same_context_question_product.append(context_value)\n",
    "    for context_index in range(len(inner_product_matrix)):\n",
    "      similarity = inner_product_matrix[context_index, question_index]\n",
    "      if context_value == similarity:\n",
    "        continue\n",
    "      list_different_context_question_product.append(similarity)\n",
    "  return list_same_context_question_product, list_different_context_question_product"
   ]
  },
  {
   "cell_type": "code",
   "execution_count": null,
   "metadata": {},
   "outputs": [],
   "source": [
    "inner_product_matrix_latest = make_inner_product(context_result_list_bmk, question_result_list_bmk)\n",
    "list_same_cq_sim_latest, list_dif_cq_sim_latest = make_diagonal_elements(inner_product_matrix_latest)"
   ]
  },
  {
   "cell_type": "code",
   "execution_count": null,
   "metadata": {},
   "outputs": [],
   "source": [
    "pd.DataFrame(list_same_cq_sim_latest).describe()"
   ]
  },
  {
   "cell_type": "code",
   "execution_count": null,
   "metadata": {},
   "outputs": [],
   "source": [
    "pd.DataFrame(list_dif_cq_sim_latest).describe()"
   ]
  },
  {
   "cell_type": "code",
   "execution_count": null,
   "metadata": {},
   "outputs": [],
   "source": [
    "pd.DataFrame(inner_product_matrix_latest)"
   ]
  }
 ],
 "metadata": {
  "kernelspec": {
   "display_name": "rag_proto",
   "language": "python",
   "name": "python3"
  },
  "language_info": {
   "codemirror_mode": {
    "name": "ipython",
    "version": 3
   },
   "file_extension": ".py",
   "mimetype": "text/x-python",
   "name": "python",
   "nbconvert_exporter": "python",
   "pygments_lexer": "ipython3",
   "version": "3.9.7"
  },
  "orig_nbformat": 4
 },
 "nbformat": 4,
 "nbformat_minor": 2
}
